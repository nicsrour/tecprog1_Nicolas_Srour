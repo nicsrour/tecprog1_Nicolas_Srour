{
  "cells": [
    {
      "cell_type": "markdown",
      "metadata": {
        "id": "dDhJSUbSE6hI"
      },
      "source": [
        "# Lista de Exercícios de Numpy\n",
        "\n",
        "Deverá ser entrege até **11/02/2023** por meio do github que foi informado por vocês no [formulário](https://forms.office.com/r/YV12vEXGYF) respondido na aula de 01/02.\n",
        "\n",
        "A entrega pela github é parte da avaliação."
      ]
    },
    {
      "cell_type": "markdown",
      "metadata": {
        "id": "eX5x6-bjE6hN"
      },
      "source": [
        "## Questão 1\n",
        "\n",
        "Crie um array 100 com valores aleatórios e ache os valores máximo e mínimo"
      ]
    },
    {
      "cell_type": "code",
      "execution_count": null,
      "metadata": {
        "id": "kYKS_ae1E6hP",
        "colab": {
          "base_uri": "https://localhost:8080/"
        },
        "outputId": "15d046a4-f598-4c81-fbb2-e020441b2f22"
      },
      "outputs": [
        {
          "output_type": "stream",
          "name": "stdout",
          "text": [
            "[324 309  37 904  60  94 232 788 547 512 149 470 214 398 557 576   5 935\n",
            " 930  80 188 662 659  27 676 977 134 765 304 494 723 279  79 780 859 390\n",
            "  14 598 918 891 222 836 602 827 265 818 319 105 252 198  55 927 406 437\n",
            " 750 456 476 346 485 852 362 965 729 211 700 846 876 613 915 436 142 284\n",
            "  69 847 576 957 709 527 309 864 262  59 521 308 519 381 340 601 548 977\n",
            " 899  83 233 761 239 103 722 224 278 392]\n",
            "O maior valor do array é: 977\n",
            "O menor valor do array é: 5\n"
          ]
        }
      ],
      "source": [
        "import numpy as np\n",
        "\n",
        "_array = np.random.randint(0,1001,100)\n",
        "print(_array)\n",
        "print(f'O maior valor do array é: {np.amax(_array)}')\n",
        "print(f'O menor valor do array é: {np.amin(_array)}')"
      ]
    },
    {
      "cell_type": "markdown",
      "metadata": {
        "id": "qT9pSHp4E6hQ"
      },
      "source": [
        "## Questão 2\n",
        "Em Geometria Analítica, um **vetor** é uma quantidade que pode ser definida por um énuplo (uma sequência ordenada de *n* elementos) em que cada elemento representa a intensidade do vetor na direção especificada pela i-ésima componente desta sequência. \n",
        "\n",
        "Quando pensamos em duas dimensões, por exemplo, o vetor $R = (b,a)$ define, geometricamente, a entidade representada na figura abaixo, com componentes nos eixos x e y usuais.\n",
        "\n",
        "<img src = \"https://static.todamateria.com.br/upload/im/ag/image-721.jpg?auto_optimize=low\" />\n",
        "\n",
        "O **módulo** deste vetor, também chamado de intensidade, está geometricamente relacionado ao seu comprimento, e pode ser calculado diretamente pelas suas componentes, por meio de uma operação conhecida como **produto escalar** do vetor com ele mesmo. O módulo quadrático é expresso, desta forma, por:\n",
        "\n",
        "$|A|^2 = \\vec{A} \\cdot \\vec{A}$\n",
        "\n",
        "Por outro lado, o produto escalar entre dois vetores $A = (a_{x}, a_{y})$ e $B = (b_{x}, b_{y})$ é dado por:\n",
        "\n",
        "$\\vec{A} \\cdot \\vec{B} = a_{x} \\times b_{x} + a_{y} \\times b_{y}$ (e esta definição vale para qualquer que seja a dimensão do vetor).\n",
        "\n",
        "O módulo quadrático de um vetor é, portanto:\n",
        "\n",
        "$|A|² = a_{x}^2 + b_{x}^2$."
      ]
    },
    {
      "cell_type": "markdown",
      "metadata": {
        "id": "-ZU6W86sE6hT"
      },
      "source": [
        "Dado o exposto acima, escreva uma função que retorne o módulo de um vetor n-dimensional qualquer."
      ]
    },
    {
      "cell_type": "code",
      "execution_count": null,
      "metadata": {
        "id": "PdKKKvShE6hT",
        "colab": {
          "base_uri": "https://localhost:8080/"
        },
        "outputId": "da0b47c0-a39f-4c63-fc5e-cbabbbed50e6"
      },
      "outputs": [
        {
          "output_type": "stream",
          "name": "stdout",
          "text": [
            "Qual a dimensão do vetor?5\n",
            "O vetor é: [67 46 61 41 69]\n",
            "O modulo do vetor é: 129.49131244990917\n"
          ]
        }
      ],
      "source": [
        "import numpy as np\n",
        "\n",
        "def modulo(vetor):\n",
        "  return np.sqrt((np.sum(vetor**2)))\n",
        "\n",
        "dim = int(input('Qual a dimensão do vetor?'))\n",
        "vetor = np.random.randint(0,100,dim)\n",
        "\n",
        "print(f'O vetor é: {vetor}')\n",
        "print(f'O modulo do vetor é: {modulo(vetor)}')"
      ]
    },
    {
      "cell_type": "markdown",
      "metadata": {
        "id": "CRZdfzLgE6hU"
      },
      "source": [
        "## Questão 3\n",
        "\n",
        "Em uma **análise de regressão**, usualmente estamos interessados em descrever relações entre variáveis de um dado conjunto de dados por meio de uma **função** que descreva, o tanto quanto possível, estas relações.\n",
        "\n",
        "Por exemplo, no gráfico abaixo, os pontos vermelhos relacionam as medidas das duas variáveis sendo avaliadas (nos eixos x e y); e a linha azul aproxima a relação entre elas por uma função linear."
      ]
    },
    {
      "cell_type": "markdown",
      "metadata": {
        "id": "180Vp7AZE6hV"
      },
      "source": [
        "![Normdist_regression.png](https://miro.medium.com/v2/resize:fit:786/format:webp/1*LEmBCYAttxS6uI6rEyPLMQ.png)"
      ]
    },
    {
      "cell_type": "markdown",
      "metadata": {
        "id": "oQ1RFXOAE6hV"
      },
      "source": [
        "É possível ver que nem todos os pontos obedecem exatamente à relação ditada pela reta (isto é, há pontos que não estão exatamente \"sobre a reta\"; mas, sim, ligeraimente acima, ou abaixo, dela). Isto, contudo, é esperado em um modelo de regressão, por inúmeras fontes de incerteza associadas às medições."
      ]
    },
    {
      "cell_type": "markdown",
      "metadata": {
        "id": "XGWoc_O2E6hW"
      },
      "source": [
        "Uma das métricas que utilizamos para avaliar a qualidade de uma regressão é o **erro quadrático médio (EQM)**, que mensura a diferença total entre cada predição da regressão ($y_{prediction}$; que no nosso caso seriam os valores de y para a reta azul) com o valor real de cada i-ésima medida ($y_{i}$; que no nosso caso seriam as coordenadas y para cada ponto vermelho do gráfico). O EQM pode ser definido como:"
      ]
    },
    {
      "cell_type": "markdown",
      "metadata": {
        "id": "CjgOdTD6E6hX"
      },
      "source": [
        "$EQM = \\frac{1}{n}\\sum_{i=1}^{n}(y_{prediction} - y_{i})^2$."
      ]
    },
    {
      "cell_type": "markdown",
      "metadata": {
        "id": "qeXCrbmbE6hY"
      },
      "source": [
        "Isto posto, escreva uma função que calcule o EQM recebendo, como entrada, os vetores $y_{prediction}$ e $y_{i}$. Por exemplo, digamos que sua função se chame *calculate_eqm*, ela deve operar da seguinte forma:"
      ]
    },
    {
      "cell_type": "code",
      "execution_count": null,
      "metadata": {
        "id": "bwiTGuuoE6hb",
        "colab": {
          "base_uri": "https://localhost:8080/"
        },
        "outputId": "e4b00d9b-7741-40dd-fca5-73ecc9a1fa86"
      },
      "outputs": [
        {
          "output_type": "execute_result",
          "data": {
            "text/plain": [
              "1.6666666666666665"
            ]
          },
          "metadata": {},
          "execution_count": 5
        }
      ],
      "source": [
        "# Solução\n",
        "import numpy as np\n",
        "def calculate_eqm (y_prediction,y_i):\n",
        "  return (1/y_i.size) * (np.sum((y_prediction-y_i)**2))\n",
        "\n",
        "y_prediction = np.array([1,2,3])\n",
        "y_i = np.array([0,0,3])\n",
        "calculate_eqm(y_prediction,y_i)"
      ]
    },
    {
      "cell_type": "markdown",
      "metadata": {
        "id": "Wh0_a8PjE6hc"
      },
      "source": [
        "## Questão 4\n",
        "\n",
        "Crie um array 2D (bidimensional) com 1 na borda e 0 dentro"
      ]
    },
    {
      "cell_type": "code",
      "source": [
        "import numpy as np\n",
        "dim = int(input('Informe a dimensão da matrix \"n X n\" (maior que 2):'))\n",
        "matrix = np.ones((dim, dim), dtype = int)\n",
        "matrix[1:-1, 1:-1] = 0\n",
        "print(matrix)"
      ],
      "metadata": {
        "id": "aq_WcOh6v6gT",
        "colab": {
          "base_uri": "https://localhost:8080/"
        },
        "outputId": "8e55b085-013d-4517-efcc-a3343d2698db"
      },
      "execution_count": null,
      "outputs": [
        {
          "output_type": "stream",
          "name": "stdout",
          "text": [
            "Informe a dimensão da matrix \"n X n\" (maior que 2):5\n",
            "[[1 1 1 1 1]\n",
            " [1 0 0 0 1]\n",
            " [1 0 0 0 1]\n",
            " [1 0 0 0 1]\n",
            " [1 1 1 1 1]]\n"
          ]
        }
      ]
    },
    {
      "cell_type": "markdown",
      "metadata": {
        "id": "U1CntgkZE6hc"
      },
      "source": [
        "## Questão 5\n",
        "\n",
        "Como adicionar uma borda de 0's ao redor de um array 2D (bidimensional) existente"
      ]
    },
    {
      "cell_type": "code",
      "source": [
        "import numpy as np\n",
        "matriz = np.random.randint(1,101, size = (10,10))\n",
        "nova_matriz = np.pad(matriz, pad_width = 1, constant_values = 0)\n",
        "\n",
        "print(nova_matriz)"
      ],
      "metadata": {
        "id": "5-A-tF2Qv6_Q",
        "colab": {
          "base_uri": "https://localhost:8080/"
        },
        "outputId": "71423512-fe96-4af0-e878-af0997842329"
      },
      "execution_count": null,
      "outputs": [
        {
          "output_type": "stream",
          "name": "stdout",
          "text": [
            "[[ 0  0  0  0  0  0  0  0  0  0  0  0]\n",
            " [ 0 69 28 41 90 88 64 26 76 17 38  0]\n",
            " [ 0 15 73 85 30 30 26 15 81 93 31  0]\n",
            " [ 0 43 87  6 70 42 60 33 40 38 92  0]\n",
            " [ 0 96 70 57 90 78 35 53 29 13 79  0]\n",
            " [ 0  8 54 70 55 57 71 98 34 25 17  0]\n",
            " [ 0 51  6 45 57 80 77 74 56 39 67  0]\n",
            " [ 0 85 75 62 59 43 71 70 57 87 58  0]\n",
            " [ 0 24 43 87 42 94  2 39 52 48 42  0]\n",
            " [ 0 97 74 13 46 99 18 41 98 77 37  0]\n",
            " [ 0  4  2 33  3 23  3  9 26  7 28  0]\n",
            " [ 0  0  0  0  0  0  0  0  0  0  0  0]]\n"
          ]
        }
      ]
    },
    {
      "cell_type": "markdown",
      "metadata": {
        "id": "qHh149eAE6hd"
      },
      "source": [
        "## Questão 6\n",
        "\n",
        " A eletroencefalografia (EEG) é uma técnica que mensura potenciais elétricos cerebrais em diversas regiões do escalpo do paciente. Suponha que você recebeu um conjunto de dados na forma de uma matriz de 64 x 512 elementos, em que cada linha contém o sinal gravado em um dos **eletrodos** espalhados pelo escalpo em um exame de EEG, e cada coluna contém um valor de potencial elétrico, em microvolts. "
      ]
    },
    {
      "cell_type": "markdown",
      "metadata": {
        "id": "BRDY8u09E6hd"
      },
      "source": [
        "Como o sinal de EEG é muito suscetível a ruídos externos (interferências na qualidade do sinal), uma operação comum para atenuar a interferência no sinal consiste em tirar a média do potencial elétrico de todos os eletrodos, e subtrair este valor de cada um deles. Isto atenua fontes de ruído ao sinal comuns a todos os eletrodos. Em termos matemáticos, o sinal processado por esta operação, $X_{e,i}$ para cada eletrodo (e) e amostra (i), é dado por:"
      ]
    },
    {
      "cell_type": "markdown",
      "metadata": {
        "id": "NHLeT5deE6he"
      },
      "source": [
        "$X_{e,i} = \\hat{X_{e,i}} - \\frac{1}{N}\\sum_{e=1}^{N}\\hat{X_{e,i}}$,\n",
        "\n",
        "em que $\\hat{X_{e,i}}$ representa o sinal original (ou seja, é a matriz de entrada de 64 x 512 elementos), e $N$ indica o total de eletrodos."
      ]
    },
    {
      "cell_type": "markdown",
      "metadata": {
        "id": "ToiE-omdE6he"
      },
      "source": [
        "Com o exposto acima, escreva uma função que retorne uma matriz com os sinais de EEG processados conforme a operação mencionada. Sua função deve operar conforme o exemplo abaixo."
      ]
    },
    {
      "cell_type": "code",
      "execution_count": null,
      "metadata": {
        "id": "OlxjvCnQE6hj",
        "colab": {
          "base_uri": "https://localhost:8080/"
        },
        "outputId": "f3689715-0bce-4c18-f896-ace857d8bfe2"
      },
      "outputs": [
        {
          "output_type": "stream",
          "name": "stdout",
          "text": [
            "[[-1.07411893 -0.52663344  0.7011298  ...  1.2067352   0.92179941\n",
            "   0.78918574]\n",
            " [ 2.30151768  1.07661759 -0.849317   ... -0.76956871  1.16713684\n",
            "  -0.92389715]\n",
            " [-1.44733711 -0.86674539  0.76873665 ...  0.38998586 -1.08694532\n",
            "   1.32137111]\n",
            " ...\n",
            " [-0.18930665 -0.20107958 -0.2647595  ...  0.76005067  0.72703554\n",
            "  -0.90600215]\n",
            " [ 0.77303459 -1.06898991 -0.81355315 ... -0.43489262 -0.51101035\n",
            "   1.22096185]\n",
            " [-0.21424977 -0.37309086  1.12880514 ...  1.41374069 -0.60552669\n",
            "   0.31540017]]\n",
            "\n",
            "\n",
            "[[-3.63598282 -3.08849733 -1.86073409 ... -1.35512869 -1.64006448\n",
            "  -1.77267815]\n",
            " [-0.26034621 -1.4852463  -3.41118089 ... -3.3314326  -1.39472705\n",
            "  -3.48576104]\n",
            " [-4.009201   -3.42860928 -1.79312724 ... -2.17187803 -3.64880921\n",
            "  -1.24049278]\n",
            " ...\n",
            " [-2.75117054 -2.76294346 -2.82662339 ... -1.80181322 -1.83482835\n",
            "  -3.46786604]\n",
            " [-1.7888293  -3.6308538  -3.37541703 ... -2.99675651 -3.07287424\n",
            "  -1.34090204]\n",
            " [-2.77611366 -2.93495475 -1.43305875 ... -1.14812319 -3.16739058\n",
            "  -2.24646372]]\n"
          ]
        }
      ],
      "source": [
        "# Solução\n",
        "import numpy as np\n",
        "\n",
        "def process_EEG_signal(X):\n",
        "  return X-((1/X.shape[0]) * np.sum(X))\n",
        "\n",
        "X = np.random.randn(64,512)\n",
        "X_processado = process_EEG_signal(X)\n",
        "\n",
        "print(X)\n",
        "print('\\n')\n",
        "print(X_processado)"
      ]
    },
    {
      "cell_type": "markdown",
      "metadata": {
        "id": "7Gy6nTwQE6hj"
      },
      "source": [
        "## Questão 7\n",
        "\n",
        "Em estatística, um **outlier** é um valor que destoa consideravelmente da distribuição à qual está associado. Um dos critérios para idenficar outliers consiste em encontrar a **distância interquantil** (IQR), ou seja, a diferença entre o terceiro (Q3) e o primeiro quartis (Q1) da distribuição, e tomar como outliers todos os pontos abaixo de 1.5*IQR - Q1, ou acima de 1.5*IQR + Q3."
      ]
    },
    {
      "cell_type": "markdown",
      "metadata": {
        "id": "CP-NkMHTE6hk"
      },
      "source": [
        "<img src = \"https://blog.curso-r.com/images/posts/banner/outlier.webp\" />"
      ]
    },
    {
      "cell_type": "markdown",
      "metadata": {
        "id": "BLDJN5JPE6hk"
      },
      "source": [
        "Escreva uma função que, dada uma matriz de dados de entrada de dimensões $N_{observações} \\times N_{features}$ retorne três requisitos: \n",
        "- uma matriz booleana indicando a existência de outliers nos dados de entrada;\n",
        "- a quantidade de outliers\n",
        "- quem são os outliers (os valores)."
      ]
    },
    {
      "cell_type": "markdown",
      "metadata": {
        "id": "wwVcP2uZE6hl"
      },
      "source": [
        "**Algumas definições:**\n",
        "- um *quantil* divide a distribuição, após ordenados os pontos, segundo algum ponto de corte;\n",
        "- o **primeiro quartil** é o ponto para o qual 25 % dos valores da distribuição estão abaixo dele;\n",
        "- o **terceiro quartil** é o ponto para o qual 75 % dos valores da distribuição estão abaixo dele.\n",
        "\n",
        "Pode ser útil consultar a função **numpy.quantile**."
      ]
    },
    {
      "cell_type": "markdown",
      "metadata": {
        "id": "C9nCKXhjE6hm"
      },
      "source": [
        "Exemplo de operação da função:"
      ]
    },
    {
      "cell_type": "code",
      "execution_count": null,
      "metadata": {
        "id": "wHdcs77RE6hm",
        "outputId": "28783112-67ef-4d51-9f83-ea939812a3d7"
      },
      "outputs": [
        {
          "data": {
            "text/plain": [
              "array([[-2.02108952,  0.57945921, -2.23074965, ..., -0.60349514,\n",
              "         0.92180452, -0.15625722],\n",
              "       [ 0.24904397,  0.03493447,  0.3515052 , ..., -0.46950081,\n",
              "         0.20361331,  0.02715956],\n",
              "       [ 0.55902525, -0.48435434,  0.90413414, ..., -0.54425743,\n",
              "        -0.80769134, -0.07912549],\n",
              "       ...,\n",
              "       [-1.04069388, -0.24245725, -2.00308877, ...,  0.4084777 ,\n",
              "        -1.81516131,  0.39063118],\n",
              "       [-1.39275097,  0.3989636 ,  0.2926223 , ...,  1.2620666 ,\n",
              "         0.72262949,  1.50737559],\n",
              "       [ 0.15922011, -0.79810788, -1.60939896, ..., -0.08214499,\n",
              "        -0.13167475,  0.15990558]])"
            ]
          },
          "metadata": {},
          "output_type": "display_data"
        }
      ],
      "source": [
        "# Geremos um conjunto de dados qualquer\n",
        "X = np.random.randn(300,15)\n",
        "X"
      ]
    },
    {
      "cell_type": "code",
      "execution_count": null,
      "metadata": {
        "id": "KVe7LEW0E6hn"
      },
      "outputs": [],
      "source": [
        "# identificamos os requisitos com nossa com nossa função \"locate_outliers\"\n",
        "is_outlier, outliers_count, outliers = locate_outliers(X)"
      ]
    },
    {
      "cell_type": "code",
      "execution_count": null,
      "metadata": {
        "id": "vuZ3n3K_E6hn",
        "outputId": "7e2860f1-4bf7-4a8a-a066-dff638e7a5f9"
      },
      "outputs": [
        {
          "data": {
            "text/plain": [
              "array([[False, False, False, ..., False, False, False],\n",
              "       [False, False, False, ..., False, False, False],\n",
              "       [False, False, False, ..., False, False, False],\n",
              "       ...,\n",
              "       [False, False, False, ..., False, False, False],\n",
              "       [False, False, False, ..., False, False, False],\n",
              "       [False, False, False, ..., False, False, False]])"
            ]
          },
          "metadata": {},
          "output_type": "display_data"
        }
      ],
      "source": [
        "is_outlier"
      ]
    },
    {
      "cell_type": "code",
      "execution_count": null,
      "metadata": {
        "id": "IzjWsBrZE6ho",
        "outputId": "8bf5b80b-16e4-4c65-eead-2a46b67a3954"
      },
      "outputs": [
        {
          "data": {
            "text/plain": [
              "44"
            ]
          },
          "metadata": {},
          "output_type": "display_data"
        }
      ],
      "source": [
        "outliers_count"
      ]
    },
    {
      "cell_type": "code",
      "execution_count": null,
      "metadata": {
        "id": "PbO7R7P2E6hp",
        "outputId": "161089f3-1f11-46a0-ba52-3a328ad17710"
      },
      "outputs": [
        {
          "data": {
            "text/plain": [
              "array([-2.67240384,  3.00270904,  3.62317101,  3.18867865,  2.55581522,\n",
              "       -2.82091429,  2.8757892 ,  2.70666036,  3.19514999, -3.40550318,\n",
              "       -3.39825827,  2.6727295 ,  2.54498296, -2.69447104,  3.19521603,\n",
              "        2.66372172, -2.77444948,  2.77421152,  2.69992869, -2.84831109,\n",
              "       -2.83695779, -2.45908227,  3.07802106,  2.89314015, -2.68574682,\n",
              "       -2.85019494,  2.43399574,  2.44291266, -2.92595937, -2.95911074,\n",
              "       -3.03966003,  2.77543068, -2.67368414, -2.79965402, -3.0501958 ,\n",
              "       -2.5437387 ,  3.08550649, -3.17666255, -3.05795476, -3.09826467,\n",
              "        3.1399469 ,  3.18141942,  2.90564257, -2.89505054])"
            ]
          },
          "metadata": {},
          "output_type": "display_data"
        }
      ],
      "source": [
        "outliers"
      ]
    },
    {
      "cell_type": "code",
      "source": [
        "def locate_outliers(X):\n",
        "  quartil_25 = np.quantile(a, 0.25)\n",
        "  print(f'Primeiro quartil (25%): {quartil_25}')\n",
        "  quartil_75 = np.quantile(a, 0.75)\n",
        "  print(f'Terceiro quartil (75%): {quartil_75}')\n",
        "  is_outlier = np.where(((X > quartil_25) & (X < quartil_75)), True, False)\n",
        "  outliers_count = np.count_nonzero(X*is_outlier)\n",
        "  outliers = X[((X > quartil_25) & (X < quartil_75))]\n",
        "  return is_outlier, outliers_count, outliers\n",
        "\n",
        "a = np.array([[1, 2, 3], [4, 5, 6]])\n",
        "print(a)\n",
        "is_outlier, outliers_count, outliers = locate_outliers(a)"
      ],
      "metadata": {
        "colab": {
          "base_uri": "https://localhost:8080/"
        },
        "id": "FeixA3BU9ti2",
        "outputId": "b604999e-4726-4516-fccb-ab4132e7b922"
      },
      "execution_count": null,
      "outputs": [
        {
          "output_type": "stream",
          "name": "stdout",
          "text": [
            "[[1 2 3]\n",
            " [4 5 6]]\n",
            "Primeiro quartil (25%): 2.25\n",
            "Terceiro quartil (75%): 4.75\n"
          ]
        }
      ]
    },
    {
      "cell_type": "code",
      "source": [
        "\n",
        "is_outlier"
      ],
      "metadata": {
        "colab": {
          "base_uri": "https://localhost:8080/"
        },
        "id": "g_L3fsBU9ydG",
        "outputId": "fce565ce-7c92-427b-e08c-c45ff593f47e"
      },
      "execution_count": null,
      "outputs": [
        {
          "output_type": "execute_result",
          "data": {
            "text/plain": [
              "array([[False, False,  True],\n",
              "       [ True, False, False]])"
            ]
          },
          "metadata": {},
          "execution_count": 9
        }
      ]
    },
    {
      "cell_type": "code",
      "source": [
        "\n",
        "outliers_count"
      ],
      "metadata": {
        "colab": {
          "base_uri": "https://localhost:8080/"
        },
        "id": "c5Z-YVfG9zxZ",
        "outputId": "706e2b8e-af9c-49e7-b2a8-37bc7a683b12"
      },
      "execution_count": null,
      "outputs": [
        {
          "output_type": "execute_result",
          "data": {
            "text/plain": [
              "2"
            ]
          },
          "metadata": {},
          "execution_count": 10
        }
      ]
    },
    {
      "cell_type": "code",
      "source": [
        "\n",
        "outliers"
      ],
      "metadata": {
        "colab": {
          "base_uri": "https://localhost:8080/"
        },
        "id": "rKJcBSt590rm",
        "outputId": "ad73ddd5-9bbd-48ab-a64b-888529ec110d"
      },
      "execution_count": null,
      "outputs": [
        {
          "output_type": "execute_result",
          "data": {
            "text/plain": [
              "array([3, 4])"
            ]
          },
          "metadata": {},
          "execution_count": 11
        }
      ]
    },
    {
      "cell_type": "code",
      "execution_count": null,
      "metadata": {
        "id": "AdTkst5UE6hq",
        "colab": {
          "base_uri": "https://localhost:8080/"
        },
        "outputId": "9ed9f2a0-b820-4832-8364-c208382402fe"
      },
      "outputs": [
        {
          "output_type": "stream",
          "name": "stdout",
          "text": [
            "Quem são os outliers:\n",
            "[[False False False ... False False False]\n",
            " [False False False ... False False False]\n",
            " [False False False ... False False False]\n",
            " ...\n",
            " [False False False ... False False False]\n",
            " [False False False ... False False False]\n",
            " [False False False ... False False False]]\n",
            "\n",
            "O numero de outliers é: 38\n",
            "\n",
            "Valores dos outliers:\n",
            " [ 3.28280879  2.9202697  -2.90067669  3.78625504 -2.83622031 -2.85882429\n",
            "  3.14669135 -2.74172739 -3.84459506  3.26586487 -2.84141026 -2.846613\n",
            " -2.75090833 -2.91644431 -2.82031962  3.11023039 -2.72084094  2.92598872\n",
            " -3.20770677  3.07721523  2.79228615  2.88692133 -3.42011129  2.72909503\n",
            "  3.08870023 -2.76190534  2.79795161  2.81521634  2.8783516   3.34447044\n",
            "  2.80091248  3.67390079 -2.79341981 -3.03022358 -3.37199947 -3.63159543\n",
            " -2.74051972  3.06914733]\n"
          ]
        }
      ],
      "source": [
        "# Solução\n",
        "import numpy as np\n",
        "\n",
        "def locate_outliers(X):\n",
        "  Q1 = np.quantile(X, 0.25)\n",
        "  Q3 = np.quantile(X, 0.75)\n",
        "  IQR = Q3 - Q1\n",
        "  limite_inferior = Q1 - 1.5*IQR\n",
        "  limite_superior = Q3 + 1.5*IQR\n",
        "  is_outlier = ((X < limite_inferior) | (X > limite_superior))\n",
        "  outliers_count = np.count_nonzero(is_outlier)\n",
        "  outliers = X[((X < limite_inferior) | (X > limite_superior))]\n",
        "  return is_outlier, outliers_count, outliers\n",
        "\n",
        "X = np.random.randn(300,15)\n",
        "is_outlier, outliers_count, outliers = locate_outliers(X)\n",
        "\n",
        "print(f'Quem são os outliers:\\n{is_outlier}\\n')\n",
        "print(f'O numero de outliers é: {outliers_count}\\n')\n",
        "print(f'Valores dos outliers:\\n {outliers}')"
      ]
    },
    {
      "cell_type": "markdown",
      "metadata": {
        "id": "upNDn96PE6hq"
      },
      "source": [
        "## Questão 8\n",
        "\n",
        "Crie um vetor com valores que vão de 1 até 21 de dois em dois, a partir da função arange"
      ]
    },
    {
      "cell_type": "code",
      "execution_count": null,
      "metadata": {
        "id": "w4d14JRZE6hr",
        "colab": {
          "base_uri": "https://localhost:8080/"
        },
        "outputId": "4fe89087-4051-4a40-b003-c31eef6b9a33"
      },
      "outputs": [
        {
          "output_type": "stream",
          "name": "stdout",
          "text": [
            "[ 1  3  5  7  9 11 13 15 17 19 21]\n"
          ]
        }
      ],
      "source": [
        "import numpy as np\n",
        "\n",
        "print(np.arange(1, 22, 2))"
      ]
    },
    {
      "cell_type": "markdown",
      "metadata": {
        "id": "SchEY1O7E6hr"
      },
      "source": [
        "## Questão 9\n",
        "\n",
        "Crie um array de 10 com valores aleatórios"
      ]
    },
    {
      "cell_type": "code",
      "execution_count": null,
      "metadata": {
        "id": "MYpySePjE6hs",
        "colab": {
          "base_uri": "https://localhost:8080/"
        },
        "outputId": "a57a7db4-a412-4816-d3c2-d6e1e544edd0"
      },
      "outputs": [
        {
          "output_type": "stream",
          "name": "stdout",
          "text": [
            "[0.56457793 0.87895641 0.94563522 0.8589072  0.40287759 0.63675919\n",
            " 0.46477032 0.36644791 0.25070995 0.44150793]\n"
          ]
        }
      ],
      "source": [
        "import numpy as np\n",
        "\n",
        "_array = np.random.rand(10)\n",
        "\n",
        "print(_array)"
      ]
    },
    {
      "cell_type": "markdown",
      "metadata": {
        "id": "EFfvM6LIAlfJ"
      },
      "source": [
        "## Questão 10\n",
        "\n",
        "Em estatística, a normalização de uma distribuição de dados pode ser feita subtraindo o valor médio da distribuição de cada valor do conjunto de dados, dividindo o resultado pelo desvio-padrão da distribuição. Escreva uma função que normalize os dados recebidos por um array numpy qualquer, conforme descrito anteriormente."
      ]
    },
    {
      "cell_type": "code",
      "execution_count": null,
      "metadata": {
        "id": "yfho2bziAlfJ",
        "colab": {
          "base_uri": "https://localhost:8080/"
        },
        "outputId": "6bc70b9d-17b8-46f2-bccd-fd98124b5bf1"
      },
      "outputs": [
        {
          "output_type": "stream",
          "name": "stdout",
          "text": [
            "[9 2 9 6 7]\n",
            "[ 0.93138063 -1.78514621  0.93138063 -0.23284516  0.15523011]\n"
          ]
        }
      ],
      "source": [
        "import numpy as np\n",
        "\n",
        "def normalização(_array):\n",
        "  media = np.mean(_array)\n",
        "  std = np.std(_array)\n",
        "  return (_array - media) / std\n",
        "\n",
        "_array = np.random.randint(0,10,5)\n",
        "\n",
        "print(_array)\n",
        "print(normalização(_array))"
      ]
    },
    {
      "cell_type": "markdown",
      "metadata": {
        "id": "p60_N7ZwAlfK"
      },
      "source": [
        "## Questão 11\n",
        "\n",
        "Escreva uma função em numpy que receba um array contendo notas de uma turma de 100 estudantes. Considere que a nota de aprovação da turma é 5.0. A função deve retornar, em um array numpy, nesta ordem:\n",
        "- a média e o desvio-padrão das notas da turma;\n",
        "- o número de notas maiores que 7.0;\n",
        "- o número de reprovações da turma;\n",
        "- a menor nota da turma;\n",
        "- a maior nota da turma."
      ]
    },
    {
      "cell_type": "code",
      "execution_count": null,
      "metadata": {
        "id": "Q3wkBCFtAlfK",
        "colab": {
          "base_uri": "https://localhost:8080/"
        },
        "outputId": "86ffb58d-7fad-440d-b8d6-fbaf92e16ffe"
      },
      "outputs": [
        {
          "output_type": "stream",
          "name": "stdout",
          "text": [
            "A média das notas é: 5.09\n",
            "O desvio padrão das notas é: 2.96\n",
            "A quantidade de notas maior que 7 é: 35\n",
            "A menor nota é: 0.10\n",
            "A maior nota é: 9.93\n"
          ]
        }
      ],
      "source": [
        "import numpy as np\n",
        "\n",
        "notas = np.random.rand(100)*10\n",
        "\n",
        "def calculos_nota(notas):\n",
        "  media = np.mean(notas)\n",
        "  desv_padrao = np.std(notas)\n",
        "  maiores_7 = np.sum(~(notas < 7))\n",
        "  menor_notas = np.amin(notas)\n",
        "  maior_notas = np.amax(notas)\n",
        "  return media, desv_padrao, maiores_7, menor_notas, maior_notas\n",
        "\n",
        "media, desv_padrao, maiores_7, menor_notas, maior_notas = calculos_nota(notas)\n",
        "print(f'A média das notas é: {round(media, 2):.2f}')\n",
        "print(f'O desvio padrão das notas é: {round(desv_padrao, 2):.2f}')\n",
        "print(f'A quantidade de notas maior que 7 é: {maiores_7}')\n",
        "print(f'A menor nota é: {round(menor_notas, 2):.2f}')\n",
        "print(f'A maior nota é: {round(maior_notas, 2):.2f}')"
      ]
    }
  ],
  "metadata": {
    "language_info": {
      "name": "python"
    },
    "orig_nbformat": 4,
    "colab": {
      "provenance": []
    },
    "kernelspec": {
      "name": "python3",
      "display_name": "Python 3"
    },
    "gpuClass": "standard"
  },
  "nbformat": 4,
  "nbformat_minor": 0
}